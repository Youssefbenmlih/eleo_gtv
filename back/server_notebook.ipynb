{
 "cells": [
  {
   "cell_type": "code",
   "execution_count": 2,
   "id": "0e78373f",
   "metadata": {},
   "outputs": [],
   "source": [
    "import pandas as pd\n",
    "import keyring\n",
    "keyring.set_password('db', 'admindb', 'Imacab@2022')\n",
    "import sqlalchemy as sa\n",
    "import urllib\n",
    "from sqlalchemy import create_engine, event\n",
    "from sqlalchemy.engine.url import URL\n",
    "from flask import Flask, request, json\n",
    "from flask import jsonify"
   ]
  },
  {
   "cell_type": "code",
   "execution_count": 52,
   "id": "9d0a3268",
   "metadata": {},
   "outputs": [],
   "source": [
    "params = urllib.parse.quote_plus(\"DRIVER={SQL Server};\"\n",
    "                                 \"SERVER=imacabsrv.database.windows.net;\"\n",
    "                                 \"DATABASE=eleo_gtv;\"\n",
    "                                 \"UID=admindb;\"\n",
    "                                 \"PWD=\" + keyring.get_password(\"db\", \"admindb\") + \";\")\n",
    "\n",
    "engine = sa.create_engine(\"mssql+pyodbc:///?odbc_connect={}\".format(params))\n",
    "con = engine.connect()\n",
    "\n",
    "app = Flask(__name__)\n",
    "\n",
    "@app.route('/', methods=['GET'])\n",
    "def ls():\n",
    "    return \"welcome to the eleo_gtv api\"\n",
    "\n",
    "\n",
    "@app.route('/api/users/list', methods=['GET'])\n",
    "def get_users():\n",
    "    req = 'SELECT * FROM dbo.users'\n",
    "    return jsonify(pd.read_sql_query(req, engine).to_dict('records'))\n",
    "\n",
    "@app.route('/api/users/add', methods=['POST'])\n",
    "def add_user():\n",
    "    request_data = request.get_json()\n",
    "    req = '''INSERT INTO [dbo].[users]\n",
    "           ([name]\n",
    "           ,[email]\n",
    "           ,[mot_de_passe]\n",
    "           ,[admin])\n",
    "     VALUES\n",
    "           ('{0}', '{1}', '{2}', '{3}')'''.format(request_data['name'], request_data['email'], \n",
    "                                                 request_data['mot_de_passe'], request_data['admin'])\n",
    "    con.execute(req)\n",
    "    return \"200\"\n",
    "    \n",
    "\n",
    "def check_connection(data):\n",
    "    req = 'SELECT name, email, mot_de_passe FROM dbo.users WHERE email = \\'{}\\''.format(data['email'])\n",
    "    users = pd.read_sql_query(req, engine).to_dict('records')\n",
    "    if len(users) == 1 and users[0]['mot_de_passe'] == data['mot_de_passe']:\n",
    "        return users[0]['name'], True\n",
    "    return \"error\", False\n",
    "\n",
    "@app.route('/api/users/connect', methods=['POST'])\n",
    "def connect_req():\n",
    "    request_data = request.get_json()\n",
    "    res = check_connection(request_data)\n",
    "    if (res[1]):\n",
    "        return res[0], \"200\"\n",
    "    return \"403\"\n",
    "\n",
    "@app.route('/api/activity/demontage', methods=['POST'])\n",
    "def demontage_activity_store():\n",
    "    request_data = request.get_json()\n",
    "    detail_list = request_data['list']\n",
    "    user_id = request_data['user_id']\n",
    "    date = request_data['date']\n",
    "\n",
    "    maxid = pd.read_sql_query(\"SELECT TOP 1 id from dbo.demontage ORDER BY id DESC\", engine).to_dict('records')\n",
    "\n",
    "    req_par = '''INSERT INTO [dbo].[demontage]\n",
    "           ([date]\n",
    "           ,[id_user])\n",
    "     VALUES\n",
    "           ('{}'\n",
    "           ,'{}')'''.format(date, user_id)\n",
    "\n",
    "    con.execute(req_par)\n",
    "\n",
    "    if len(maxid) == 0:\n",
    "        maxid = 1\n",
    "    else:\n",
    "        maxid = int(maxid[0]['id']) + 1\n",
    "    \n",
    "    for el in detail_list:\n",
    "        req_det = '''INSERT INTO [dbo].[det_demontage]\n",
    "            ([id_demontage]\n",
    "            ,[touret_type]\n",
    "            ,[quantite_tourets]\n",
    "            ,[cercle]\n",
    "            ,[ingelec])\n",
    "        VALUES\n",
    "            ('{}'\n",
    "            ,'{}'\n",
    "            ,'{}'\n",
    "            ,'{}'\n",
    "            ,'{}')'''.format(maxid, el['touret_type'], el['quantite_tourets'], el['cercle'],el['ingelec'])\n",
    "        con.execute(req_det)\n",
    "\n",
    "\n",
    "    return \"200\"\n"
   ]
  },
  {
   "cell_type": "code",
   "execution_count": 53,
   "id": "d0c686bc",
   "metadata": {
    "scrolled": true
   },
   "outputs": [
    {
     "name": "stdout",
     "output_type": "stream",
     "text": [
      " * Serving Flask app \"__main__\" (lazy loading)\n",
      " * Environment: production\n",
      "\u001b[31m   WARNING: This is a development server. Do not use it in a production deployment.\u001b[0m\n",
      "\u001b[2m   Use a production WSGI server instead.\u001b[0m\n",
      " * Debug mode: off\n"
     ]
    },
    {
     "name": "stderr",
     "output_type": "stream",
     "text": [
      " * Running on http://127.0.0.1:5000/ (Press CTRL+C to quit)\n",
      "127.0.0.1 - - [10/Nov/2022 11:32:13] \"POST /api/activity/demontage HTTP/1.1\" 200 -\n"
     ]
    }
   ],
   "source": [
    "app.run()"
   ]
  },
  {
   "cell_type": "code",
   "execution_count": null,
   "id": "2bbbafa1",
   "metadata": {},
   "outputs": [],
   "source": []
  }
 ],
 "metadata": {
  "kernelspec": {
   "display_name": "Python 3 (ipykernel)",
   "language": "python",
   "name": "python3"
  },
  "language_info": {
   "codemirror_mode": {
    "name": "ipython",
    "version": 3
   },
   "file_extension": ".py",
   "mimetype": "text/x-python",
   "name": "python",
   "nbconvert_exporter": "python",
   "pygments_lexer": "ipython3",
   "version": "3.9.13"
  },
  "vscode": {
   "interpreter": {
    "hash": "400010ef2432bf853cd60ab193a1c4bfa2ff84554c140a2a4541b597e0eb539d"
   }
  }
 },
 "nbformat": 4,
 "nbformat_minor": 5
}
